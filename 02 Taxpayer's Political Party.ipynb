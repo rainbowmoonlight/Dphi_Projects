{
 "cells": [
  {
   "cell_type": "markdown",
   "metadata": {},
   "source": [
    "# Taxpayer's Political Party\n",
    "We are going to build a machine learning model that would predict the political party to which a taxpayer belongs to.\n",
    "\n",
    "\n",
    "## **Data**\n",
    "The dataset contains information about US taxpayers. There are 10 independent columns and 1 dependent column. This dataset includes attributes like household income, household debt level, if the taxpayer is married or not, how many cars their household has, if they filed their taxes in the last three years or not. Some of the attribute informations are given below:\n",
    "- HHI: Household income\n",
    "- HHDL: Household debt level\n",
    "- Married: There are three categories for a taxpayer 0, 1, 2 with regards to marriage.\n",
    "- PoliticalParty: Name of the political party\n",
    "- CollegeGrads: Grade in College out of 5\n",
    "- AHHAge: Average household age\n",
    "- cars: number of cars in house\n",
    "- Filed in YYYY: Tax filed in given year YYYY\n",
    "\n",
    "https://raw.githubusercontent.com/dphi-official/Datasets/master/tax_payers/train_set_label.csv\""
   ]
  },
  {
   "cell_type": "code",
   "execution_count": 1,
   "metadata": {},
   "outputs": [
    {
     "name": "stdout",
     "output_type": "stream",
     "text": [
      "Requirement already satisfied: scikit-learn==0.23.1 in c:\\users\\princess\\anaconda3\\lib\\site-packages (0.23.1)\n",
      "Requirement already satisfied: joblib>=0.11 in c:\\users\\princess\\anaconda3\\lib\\site-packages (from scikit-learn==0.23.1) (0.16.0)\n",
      "Requirement already satisfied: numpy>=1.13.3 in c:\\users\\princess\\anaconda3\\lib\\site-packages (from scikit-learn==0.23.1) (1.18.5)\n",
      "Requirement already satisfied: threadpoolctl>=2.0.0 in c:\\users\\princess\\anaconda3\\lib\\site-packages (from scikit-learn==0.23.1) (2.1.0)\n",
      "Requirement already satisfied: scipy>=0.19.1 in c:\\users\\princess\\anaconda3\\lib\\site-packages (from scikit-learn==0.23.1) (1.5.0)\n",
      "Requirement already satisfied: numpy>=1.13.3 in c:\\users\\princess\\anaconda3\\lib\\site-packages (from scikit-learn==0.23.1) (1.18.5)\n"
     ]
    }
   ],
   "source": [
    "!pip install scikit-learn==0.23.1"
   ]
  },
  {
   "cell_type": "code",
   "execution_count": 88,
   "metadata": {},
   "outputs": [],
   "source": [
    "import pandas as pd\n",
    "import matplotlib.pyplot as plt\n",
    "import seaborn as sns\n",
    "%matplotlib inline"
   ]
  },
  {
   "cell_type": "code",
   "execution_count": 89,
   "metadata": {},
   "outputs": [],
   "source": [
    "data = pd.read_csv(\"https://raw.githubusercontent.com/dphi-official/Datasets/master/tax_payers/train_set_label.csv\")"
   ]
  },
  {
   "cell_type": "code",
   "execution_count": 90,
   "metadata": {},
   "outputs": [
    {
     "data": {
      "text/html": [
       "<div>\n",
       "<style scoped>\n",
       "    .dataframe tbody tr th:only-of-type {\n",
       "        vertical-align: middle;\n",
       "    }\n",
       "\n",
       "    .dataframe tbody tr th {\n",
       "        vertical-align: top;\n",
       "    }\n",
       "\n",
       "    .dataframe thead th {\n",
       "        text-align: right;\n",
       "    }\n",
       "</style>\n",
       "<table border=\"1\" class=\"dataframe\">\n",
       "  <thead>\n",
       "    <tr style=\"text-align: right;\">\n",
       "      <th></th>\n",
       "      <th>Unnamed: 0</th>\n",
       "      <th>HHI</th>\n",
       "      <th>HHDL</th>\n",
       "      <th>Married</th>\n",
       "      <th>CollegGrads</th>\n",
       "      <th>AHHAge</th>\n",
       "      <th>Cars</th>\n",
       "      <th>Filed in 2017</th>\n",
       "      <th>Filed in 2016</th>\n",
       "      <th>Filed in 2015</th>\n",
       "      <th>PoliticalParty</th>\n",
       "    </tr>\n",
       "  </thead>\n",
       "  <tbody>\n",
       "    <tr>\n",
       "      <th>0</th>\n",
       "      <td>61</td>\n",
       "      <td>183414</td>\n",
       "      <td>-12402</td>\n",
       "      <td>1</td>\n",
       "      <td>2</td>\n",
       "      <td>28</td>\n",
       "      <td>1</td>\n",
       "      <td>0</td>\n",
       "      <td>0</td>\n",
       "      <td>1</td>\n",
       "      <td>Democrat</td>\n",
       "    </tr>\n",
       "    <tr>\n",
       "      <th>1</th>\n",
       "      <td>501</td>\n",
       "      <td>129786</td>\n",
       "      <td>700251</td>\n",
       "      <td>2</td>\n",
       "      <td>5</td>\n",
       "      <td>63</td>\n",
       "      <td>3</td>\n",
       "      <td>0</td>\n",
       "      <td>0</td>\n",
       "      <td>0</td>\n",
       "      <td>Republican</td>\n",
       "    </tr>\n",
       "    <tr>\n",
       "      <th>2</th>\n",
       "      <td>658</td>\n",
       "      <td>268343</td>\n",
       "      <td>493411</td>\n",
       "      <td>2</td>\n",
       "      <td>4</td>\n",
       "      <td>44</td>\n",
       "      <td>1</td>\n",
       "      <td>1</td>\n",
       "      <td>0</td>\n",
       "      <td>1</td>\n",
       "      <td>Independent</td>\n",
       "    </tr>\n",
       "    <tr>\n",
       "      <th>3</th>\n",
       "      <td>703</td>\n",
       "      <td>290506</td>\n",
       "      <td>-433408</td>\n",
       "      <td>1</td>\n",
       "      <td>1</td>\n",
       "      <td>28</td>\n",
       "      <td>5</td>\n",
       "      <td>1</td>\n",
       "      <td>0</td>\n",
       "      <td>1</td>\n",
       "      <td>Republican</td>\n",
       "    </tr>\n",
       "    <tr>\n",
       "      <th>4</th>\n",
       "      <td>702</td>\n",
       "      <td>90108</td>\n",
       "      <td>907135</td>\n",
       "      <td>1</td>\n",
       "      <td>3</td>\n",
       "      <td>57</td>\n",
       "      <td>5</td>\n",
       "      <td>1</td>\n",
       "      <td>1</td>\n",
       "      <td>0</td>\n",
       "      <td>Democrat</td>\n",
       "    </tr>\n",
       "  </tbody>\n",
       "</table>\n",
       "</div>"
      ],
      "text/plain": [
       "   Unnamed: 0     HHI    HHDL  Married  CollegGrads  AHHAge  Cars  \\\n",
       "0          61  183414  -12402        1            2      28     1   \n",
       "1         501  129786  700251        2            5      63     3   \n",
       "2         658  268343  493411        2            4      44     1   \n",
       "3         703  290506 -433408        1            1      28     5   \n",
       "4         702   90108  907135        1            3      57     5   \n",
       "\n",
       "   Filed in 2017  Filed in 2016  Filed in 2015 PoliticalParty  \n",
       "0              0              0              1       Democrat  \n",
       "1              0              0              0     Republican  \n",
       "2              1              0              1    Independent  \n",
       "3              1              0              1     Republican  \n",
       "4              1              1              0       Democrat  "
      ]
     },
     "execution_count": 90,
     "metadata": {},
     "output_type": "execute_result"
    }
   ],
   "source": [
    "data.head()"
   ]
  },
  {
   "cell_type": "code",
   "execution_count": 91,
   "metadata": {},
   "outputs": [
    {
     "name": "stdout",
     "output_type": "stream",
     "text": [
      "<class 'pandas.core.frame.DataFrame'>\n",
      "RangeIndex: 803 entries, 0 to 802\n",
      "Data columns (total 11 columns):\n",
      " #   Column          Non-Null Count  Dtype \n",
      "---  ------          --------------  ----- \n",
      " 0   Unnamed: 0      803 non-null    int64 \n",
      " 1   HHI             803 non-null    int64 \n",
      " 2   HHDL            803 non-null    int64 \n",
      " 3   Married         803 non-null    int64 \n",
      " 4   CollegGrads     803 non-null    int64 \n",
      " 5   AHHAge          803 non-null    int64 \n",
      " 6   Cars            803 non-null    int64 \n",
      " 7   Filed in 2017   803 non-null    int64 \n",
      " 8   Filed in 2016   803 non-null    int64 \n",
      " 9   Filed in 2015   803 non-null    int64 \n",
      " 10  PoliticalParty  803 non-null    object\n",
      "dtypes: int64(10), object(1)\n",
      "memory usage: 69.1+ KB\n"
     ]
    }
   ],
   "source": [
    "data.info()"
   ]
  },
  {
   "cell_type": "code",
   "execution_count": 92,
   "metadata": {},
   "outputs": [
    {
     "data": {
      "text/plain": [
       "Unnamed: 0        0\n",
       "HHI               0\n",
       "HHDL              0\n",
       "Married           0\n",
       "CollegGrads       0\n",
       "AHHAge            0\n",
       "Cars              0\n",
       "Filed in 2017     0\n",
       "Filed in 2016     0\n",
       "Filed in 2015     0\n",
       "PoliticalParty    0\n",
       "dtype: int64"
      ]
     },
     "execution_count": 92,
     "metadata": {},
     "output_type": "execute_result"
    }
   ],
   "source": [
    "data.isnull().sum()"
   ]
  },
  {
   "cell_type": "code",
   "execution_count": 93,
   "metadata": {},
   "outputs": [
    {
     "data": {
      "text/plain": [
       "Democrat       269\n",
       "Independent    269\n",
       "Republican     265\n",
       "Name: PoliticalParty, dtype: int64"
      ]
     },
     "execution_count": 93,
     "metadata": {},
     "output_type": "execute_result"
    }
   ],
   "source": [
    "data.PoliticalParty.value_counts()"
   ]
  },
  {
   "cell_type": "markdown",
   "metadata": {},
   "source": [
    "Republican Party has least count of taxpayers"
   ]
  },
  {
   "cell_type": "code",
   "execution_count": 94,
   "metadata": {},
   "outputs": [
    {
     "data": {
      "text/html": [
       "<div>\n",
       "<style scoped>\n",
       "    .dataframe tbody tr th:only-of-type {\n",
       "        vertical-align: middle;\n",
       "    }\n",
       "\n",
       "    .dataframe tbody tr th {\n",
       "        vertical-align: top;\n",
       "    }\n",
       "\n",
       "    .dataframe thead th {\n",
       "        text-align: right;\n",
       "    }\n",
       "</style>\n",
       "<table border=\"1\" class=\"dataframe\">\n",
       "  <thead>\n",
       "    <tr style=\"text-align: right;\">\n",
       "      <th></th>\n",
       "      <th>Unnamed: 0</th>\n",
       "      <th>HHI</th>\n",
       "      <th>HHDL</th>\n",
       "      <th>Married</th>\n",
       "      <th>CollegGrads</th>\n",
       "      <th>AHHAge</th>\n",
       "      <th>Cars</th>\n",
       "      <th>Filed in 2017</th>\n",
       "      <th>Filed in 2016</th>\n",
       "      <th>Filed in 2015</th>\n",
       "    </tr>\n",
       "    <tr>\n",
       "      <th>PoliticalParty</th>\n",
       "      <th></th>\n",
       "      <th></th>\n",
       "      <th></th>\n",
       "      <th></th>\n",
       "      <th></th>\n",
       "      <th></th>\n",
       "      <th></th>\n",
       "      <th></th>\n",
       "      <th></th>\n",
       "      <th></th>\n",
       "    </tr>\n",
       "  </thead>\n",
       "  <tbody>\n",
       "    <tr>\n",
       "      <th>Democrat</th>\n",
       "      <td>138095</td>\n",
       "      <td>39207768</td>\n",
       "      <td>-3973161</td>\n",
       "      <td>251</td>\n",
       "      <td>714</td>\n",
       "      <td>15937</td>\n",
       "      <td>636</td>\n",
       "      <td>125</td>\n",
       "      <td>138</td>\n",
       "      <td>125</td>\n",
       "    </tr>\n",
       "    <tr>\n",
       "      <th>Independent</th>\n",
       "      <td>129216</td>\n",
       "      <td>42692746</td>\n",
       "      <td>-6328472</td>\n",
       "      <td>262</td>\n",
       "      <td>689</td>\n",
       "      <td>16390</td>\n",
       "      <td>638</td>\n",
       "      <td>135</td>\n",
       "      <td>142</td>\n",
       "      <td>153</td>\n",
       "    </tr>\n",
       "    <tr>\n",
       "      <th>Republican</th>\n",
       "      <td>135989</td>\n",
       "      <td>42887845</td>\n",
       "      <td>-2025423</td>\n",
       "      <td>267</td>\n",
       "      <td>691</td>\n",
       "      <td>16302</td>\n",
       "      <td>682</td>\n",
       "      <td>147</td>\n",
       "      <td>129</td>\n",
       "      <td>137</td>\n",
       "    </tr>\n",
       "  </tbody>\n",
       "</table>\n",
       "</div>"
      ],
      "text/plain": [
       "                Unnamed: 0       HHI     HHDL  Married  CollegGrads  AHHAge  \\\n",
       "PoliticalParty                                                                \n",
       "Democrat            138095  39207768 -3973161      251          714   15937   \n",
       "Independent         129216  42692746 -6328472      262          689   16390   \n",
       "Republican          135989  42887845 -2025423      267          691   16302   \n",
       "\n",
       "                Cars  Filed in 2017  Filed in 2016  Filed in 2015  \n",
       "PoliticalParty                                                     \n",
       "Democrat         636            125            138            125  \n",
       "Independent      638            135            142            153  \n",
       "Republican       682            147            129            137  "
      ]
     },
     "execution_count": 94,
     "metadata": {},
     "output_type": "execute_result"
    }
   ],
   "source": [
    "data.groupby(\"PoliticalParty\").sum()"
   ]
  },
  {
   "cell_type": "code",
   "execution_count": 95,
   "metadata": {},
   "outputs": [
    {
     "data": {
      "text/plain": [
       "1    415\n",
       "0    388\n",
       "Name: Filed in 2015, dtype: int64"
      ]
     },
     "execution_count": 95,
     "metadata": {},
     "output_type": "execute_result"
    }
   ],
   "source": [
    "data[\"Filed in 2015\"].value_counts()"
   ]
  },
  {
   "cell_type": "code",
   "execution_count": 96,
   "metadata": {},
   "outputs": [
    {
     "data": {
      "text/plain": [
       "1    409\n",
       "0    394\n",
       "Name: Filed in 2016, dtype: int64"
      ]
     },
     "execution_count": 96,
     "metadata": {},
     "output_type": "execute_result"
    }
   ],
   "source": [
    "data[\"Filed in 2016\"].value_counts()"
   ]
  },
  {
   "cell_type": "code",
   "execution_count": 97,
   "metadata": {},
   "outputs": [
    {
     "data": {
      "text/plain": [
       "1    407\n",
       "0    396\n",
       "Name: Filed in 2017, dtype: int64"
      ]
     },
     "execution_count": 97,
     "metadata": {},
     "output_type": "execute_result"
    }
   ],
   "source": [
    "data[\"Filed in 2017\"].value_counts()"
   ]
  },
  {
   "cell_type": "markdown",
   "metadata": {},
   "source": [
    "The count of people who filed tax in 2015 is more than the count of people who filed tax in the other two years individually."
   ]
  },
  {
   "cell_type": "code",
   "execution_count": 98,
   "metadata": {},
   "outputs": [
    {
     "data": {
      "text/plain": [
       "Text(0.5, 1.0, 'Scatterplot between HHI and HHDL')"
      ]
     },
     "execution_count": 98,
     "metadata": {},
     "output_type": "execute_result"
    },
    {
     "data": {
      "image/png": "[encoded data removed]",
      "text/plain": [
       "<Figure size 864x432 with 1 Axes>"
      ]
     },
     "metadata": {
      "needs_background": "light"
     },
     "output_type": "display_data"
    }
   ],
   "source": [
    "plt.figure(figsize=(12,6))\n",
    "sns.scatterplot(data.HHI, data.HHDL)\n",
    "plt.xlabel(\"HHI\")\n",
    "plt.ylabel(\"HHDL\")\n",
    "plt.title(\"Scatterplot between HHI and HHDL\")"
   ]
  },
  {
   "cell_type": "markdown",
   "metadata": {},
   "source": [
    "Separate dependent feature (i.e. PoliticalParty) and independent features"
   ]
  },
  {
   "cell_type": "code",
   "execution_count": 99,
   "metadata": {},
   "outputs": [
    {
     "data": {
      "text/html": [
       "<div>\n",
       "<style scoped>\n",
       "    .dataframe tbody tr th:only-of-type {\n",
       "        vertical-align: middle;\n",
       "    }\n",
       "\n",
       "    .dataframe tbody tr th {\n",
       "        vertical-align: top;\n",
       "    }\n",
       "\n",
       "    .dataframe thead th {\n",
       "        text-align: right;\n",
       "    }\n",
       "</style>\n",
       "<table border=\"1\" class=\"dataframe\">\n",
       "  <thead>\n",
       "    <tr style=\"text-align: right;\">\n",
       "      <th></th>\n",
       "      <th>Unnamed: 0</th>\n",
       "      <th>HHI</th>\n",
       "      <th>HHDL</th>\n",
       "      <th>Married</th>\n",
       "      <th>CollegGrads</th>\n",
       "      <th>AHHAge</th>\n",
       "      <th>Cars</th>\n",
       "      <th>Filed in 2017</th>\n",
       "      <th>Filed in 2016</th>\n",
       "      <th>Filed in 2015</th>\n",
       "    </tr>\n",
       "  </thead>\n",
       "  <tbody>\n",
       "    <tr>\n",
       "      <th>Unnamed: 0</th>\n",
       "      <td>1.000000</td>\n",
       "      <td>-0.044713</td>\n",
       "      <td>0.042304</td>\n",
       "      <td>0.000487</td>\n",
       "      <td>0.045215</td>\n",
       "      <td>0.047690</td>\n",
       "      <td>0.041287</td>\n",
       "      <td>0.055262</td>\n",
       "      <td>0.012946</td>\n",
       "      <td>-0.017110</td>\n",
       "    </tr>\n",
       "    <tr>\n",
       "      <th>HHI</th>\n",
       "      <td>-0.044713</td>\n",
       "      <td>1.000000</td>\n",
       "      <td>-0.013745</td>\n",
       "      <td>-0.007374</td>\n",
       "      <td>-0.029947</td>\n",
       "      <td>0.029051</td>\n",
       "      <td>0.025449</td>\n",
       "      <td>0.061525</td>\n",
       "      <td>0.040308</td>\n",
       "      <td>0.027026</td>\n",
       "    </tr>\n",
       "    <tr>\n",
       "      <th>HHDL</th>\n",
       "      <td>0.042304</td>\n",
       "      <td>-0.013745</td>\n",
       "      <td>1.000000</td>\n",
       "      <td>-0.039531</td>\n",
       "      <td>0.015394</td>\n",
       "      <td>0.051930</td>\n",
       "      <td>0.016308</td>\n",
       "      <td>0.035499</td>\n",
       "      <td>0.022683</td>\n",
       "      <td>0.029971</td>\n",
       "    </tr>\n",
       "    <tr>\n",
       "      <th>Married</th>\n",
       "      <td>0.000487</td>\n",
       "      <td>-0.007374</td>\n",
       "      <td>-0.039531</td>\n",
       "      <td>1.000000</td>\n",
       "      <td>-0.012980</td>\n",
       "      <td>0.029995</td>\n",
       "      <td>-0.020007</td>\n",
       "      <td>-0.056867</td>\n",
       "      <td>0.054926</td>\n",
       "      <td>-0.028267</td>\n",
       "    </tr>\n",
       "    <tr>\n",
       "      <th>CollegGrads</th>\n",
       "      <td>0.045215</td>\n",
       "      <td>-0.029947</td>\n",
       "      <td>0.015394</td>\n",
       "      <td>-0.012980</td>\n",
       "      <td>1.000000</td>\n",
       "      <td>0.036692</td>\n",
       "      <td>-0.000744</td>\n",
       "      <td>-0.046625</td>\n",
       "      <td>0.034875</td>\n",
       "      <td>0.032438</td>\n",
       "    </tr>\n",
       "    <tr>\n",
       "      <th>AHHAge</th>\n",
       "      <td>0.047690</td>\n",
       "      <td>0.029051</td>\n",
       "      <td>0.051930</td>\n",
       "      <td>0.029995</td>\n",
       "      <td>0.036692</td>\n",
       "      <td>1.000000</td>\n",
       "      <td>0.069374</td>\n",
       "      <td>0.014954</td>\n",
       "      <td>-0.006631</td>\n",
       "      <td>0.016506</td>\n",
       "    </tr>\n",
       "    <tr>\n",
       "      <th>Cars</th>\n",
       "      <td>0.041287</td>\n",
       "      <td>0.025449</td>\n",
       "      <td>0.016308</td>\n",
       "      <td>-0.020007</td>\n",
       "      <td>-0.000744</td>\n",
       "      <td>0.069374</td>\n",
       "      <td>1.000000</td>\n",
       "      <td>-0.009360</td>\n",
       "      <td>0.063988</td>\n",
       "      <td>0.036764</td>\n",
       "    </tr>\n",
       "    <tr>\n",
       "      <th>Filed in 2017</th>\n",
       "      <td>0.055262</td>\n",
       "      <td>0.061525</td>\n",
       "      <td>0.035499</td>\n",
       "      <td>-0.056867</td>\n",
       "      <td>-0.046625</td>\n",
       "      <td>0.014954</td>\n",
       "      <td>-0.009360</td>\n",
       "      <td>1.000000</td>\n",
       "      <td>-0.086207</td>\n",
       "      <td>0.008262</td>\n",
       "    </tr>\n",
       "    <tr>\n",
       "      <th>Filed in 2016</th>\n",
       "      <td>0.012946</td>\n",
       "      <td>0.040308</td>\n",
       "      <td>0.022683</td>\n",
       "      <td>0.054926</td>\n",
       "      <td>0.034875</td>\n",
       "      <td>-0.006631</td>\n",
       "      <td>0.063988</td>\n",
       "      <td>-0.086207</td>\n",
       "      <td>1.000000</td>\n",
       "      <td>-0.051725</td>\n",
       "    </tr>\n",
       "    <tr>\n",
       "      <th>Filed in 2015</th>\n",
       "      <td>-0.017110</td>\n",
       "      <td>0.027026</td>\n",
       "      <td>0.029971</td>\n",
       "      <td>-0.028267</td>\n",
       "      <td>0.032438</td>\n",
       "      <td>0.016506</td>\n",
       "      <td>0.036764</td>\n",
       "      <td>0.008262</td>\n",
       "      <td>-0.051725</td>\n",
       "      <td>1.000000</td>\n",
       "    </tr>\n",
       "  </tbody>\n",
       "</table>\n",
       "</div>"
      ],
      "text/plain": [
       "               Unnamed: 0       HHI      HHDL   Married  CollegGrads  \\\n",
       "Unnamed: 0       1.000000 -0.044713  0.042304  0.000487     0.045215   \n",
       "HHI             -0.044713  1.000000 -0.013745 -0.007374    -0.029947   \n",
       "HHDL             0.042304 -0.013745  1.000000 -0.039531     0.015394   \n",
       "Married          0.000487 -0.007374 -0.039531  1.000000    -0.012980   \n",
       "CollegGrads      0.045215 -0.029947  0.015394 -0.012980     1.000000   \n",
       "AHHAge           0.047690  0.029051  0.051930  0.029995     0.036692   \n",
       "Cars             0.041287  0.025449  0.016308 -0.020007    -0.000744   \n",
       "Filed in 2017    0.055262  0.061525  0.035499 -0.056867    -0.046625   \n",
       "Filed in 2016    0.012946  0.040308  0.022683  0.054926     0.034875   \n",
       "Filed in 2015   -0.017110  0.027026  0.029971 -0.028267     0.032438   \n",
       "\n",
       "                 AHHAge      Cars  Filed in 2017  Filed in 2016  Filed in 2015  \n",
       "Unnamed: 0     0.047690  0.041287       0.055262       0.012946      -0.017110  \n",
       "HHI            0.029051  0.025449       0.061525       0.040308       0.027026  \n",
       "HHDL           0.051930  0.016308       0.035499       0.022683       0.029971  \n",
       "Married        0.029995 -0.020007      -0.056867       0.054926      -0.028267  \n",
       "CollegGrads    0.036692 -0.000744      -0.046625       0.034875       0.032438  \n",
       "AHHAge         1.000000  0.069374       0.014954      -0.006631       0.016506  \n",
       "Cars           0.069374  1.000000      -0.009360       0.063988       0.036764  \n",
       "Filed in 2017  0.014954 -0.009360       1.000000      -0.086207       0.008262  \n",
       "Filed in 2016 -0.006631  0.063988      -0.086207       1.000000      -0.051725  \n",
       "Filed in 2015  0.016506  0.036764       0.008262      -0.051725       1.000000  "
      ]
     },
     "execution_count": 99,
     "metadata": {},
     "output_type": "execute_result"
    }
   ],
   "source": [
    "corr_matrix = data.corr()\n",
    "corr_matrix"
   ]
  },
  {
   "cell_type": "code",
   "execution_count": 100,
   "metadata": {},
   "outputs": [
    {
     "data": {
      "text/plain": [
       "<matplotlib.axes._subplots.AxesSubplot at 0x1402b350e80>"
      ]
     },
     "execution_count": 100,
     "metadata": {},
     "output_type": "execute_result"
    },
    {
     "data": {
      "image/png": "[encoded data removed]",
      "text/plain": [
       "<Figure size 864x432 with 2 Axes>"
      ]
     },
     "metadata": {
      "needs_background": "light"
     },
     "output_type": "display_data"
    }
   ],
   "source": [
    "plt.figure(figsize=(12,6))\n",
    "sns.heatmap(corr_matrix, annot=True)"
   ]
  },
  {
   "cell_type": "code",
   "execution_count": 28,
   "metadata": {},
   "outputs": [],
   "source": [
    "X = data.drop(\"PoliticalParty\", axis=1)\n",
    "y = data[\"PoliticalParty\"]"
   ]
  },
  {
   "cell_type": "markdown",
   "metadata": {},
   "source": [
    "Split the data into train and test set with test_size = 0.2 and random_state = 1"
   ]
  },
  {
   "cell_type": "code",
   "execution_count": 31,
   "metadata": {},
   "outputs": [],
   "source": [
    "from sklearn.model_selection import train_test_split\n",
    "X_train, X_test, y_train, y_test = train_test_split(X,y, test_size=0.2, random_state=1)"
   ]
  },
  {
   "cell_type": "markdown",
   "metadata": {},
   "source": [
    "Build a Logistic Regression model without passing any parameter to the model"
   ]
  },
  {
   "cell_type": "code",
   "execution_count": 32,
   "metadata": {},
   "outputs": [
    {
     "data": {
      "text/plain": [
       "LogisticRegression()"
      ]
     },
     "execution_count": 32,
     "metadata": {},
     "output_type": "execute_result"
    }
   ],
   "source": [
    "from sklearn.linear_model import LogisticRegression\n",
    "logreg = LogisticRegression()\n",
    "logreg.fit(X_train, y_train)"
   ]
  },
  {
   "cell_type": "code",
   "execution_count": 34,
   "metadata": {},
   "outputs": [],
   "source": [
    "y_pred=logreg.predict(X_test)"
   ]
  },
  {
   "cell_type": "code",
   "execution_count": 46,
   "metadata": {},
   "outputs": [
    {
     "data": {
      "text/plain": [
       "0.37383177570093457"
      ]
     },
     "execution_count": 46,
     "metadata": {},
     "output_type": "execute_result"
    }
   ],
   "source": [
    "logreg.score(X_train, y_train)"
   ]
  },
  {
   "cell_type": "code",
   "execution_count": 47,
   "metadata": {},
   "outputs": [
    {
     "data": {
      "text/plain": [
       "0.35403726708074534"
      ]
     },
     "execution_count": 47,
     "metadata": {},
     "output_type": "execute_result"
    }
   ],
   "source": [
    "logreg.score(X_test, y_test)"
   ]
  },
  {
   "cell_type": "markdown",
   "metadata": {},
   "source": [
    "## Model Evaluation\n",
    "\n",
    "### Model accuracy"
   ]
  },
  {
   "cell_type": "code",
   "execution_count": 41,
   "metadata": {},
   "outputs": [],
   "source": [
    "from sklearn.metrics import accuracy_score, confusion_matrix"
   ]
  },
  {
   "cell_type": "code",
   "execution_count": 39,
   "metadata": {},
   "outputs": [
    {
     "data": {
      "text/plain": [
       "0.35403726708074534"
      ]
     },
     "execution_count": 39,
     "metadata": {},
     "output_type": "execute_result"
    }
   ],
   "source": [
    "accuracy_score(y_test,y_pred)"
   ]
  },
  {
   "cell_type": "code",
   "execution_count": 42,
   "metadata": {},
   "outputs": [
    {
     "data": {
      "text/plain": [
       "array([[23, 19, 13],\n",
       "       [ 9, 19, 27],\n",
       "       [14, 22, 15]], dtype=int64)"
      ]
     },
     "execution_count": 42,
     "metadata": {},
     "output_type": "execute_result"
    }
   ],
   "source": [
    "confusion_matrix(y_test,y_pred)"
   ]
  },
  {
   "cell_type": "markdown",
   "metadata": {},
   "source": [
    "## Load Test Dataset"
   ]
  },
  {
   "cell_type": "code",
   "execution_count": 51,
   "metadata": {},
   "outputs": [],
   "source": [
    "test_data = pd.read_csv('https://raw.githubusercontent.com/dphi-official/Datasets/master/tax_payers/test_set_label.csv')"
   ]
  },
  {
   "cell_type": "code",
   "execution_count": 52,
   "metadata": {},
   "outputs": [
    {
     "data": {
      "text/plain": [
       "Unnamed: 0       0\n",
       "HHI              0\n",
       "HHDL             0\n",
       "Married          0\n",
       "CollegGrads      0\n",
       "AHHAge           0\n",
       "Cars             0\n",
       "Filed in 2017    0\n",
       "Filed in 2016    0\n",
       "Filed in 2015    0\n",
       "dtype: int64"
      ]
     },
     "execution_count": 52,
     "metadata": {},
     "output_type": "execute_result"
    }
   ],
   "source": [
    "test_data.isnull().sum()"
   ]
  },
  {
   "cell_type": "code",
   "execution_count": 54,
   "metadata": {},
   "outputs": [],
   "source": [
    "target = logreg.predict(test_data)"
   ]
  },
  {
   "cell_type": "code",
   "execution_count": 55,
   "metadata": {},
   "outputs": [],
   "source": [
    "res = pd.DataFrame(target)\n",
    "res.index = test_data.index\n",
    "res.columns = [\"prediction\"]\n",
    "res.to_csv(\"prediction_results.csv\", index=False)"
   ]
  },
  {
   "cell_type": "code",
   "execution_count": null,
   "metadata": {},
   "outputs": [],
   "source": []
  }
 ],
 "metadata": {
  "kernelspec": {
   "display_name": "Python 3",
   "language": "python",
   "name": "python3"
  },
  "language_info": {
   "codemirror_mode": {
    "name": "ipython",
    "version": 3
   },
   "file_extension": ".py",
   "mimetype": "text/x-python",
   "name": "python",
   "nbconvert_exporter": "python",
   "pygments_lexer": "ipython3",
   "version": "3.8.3"
  }
 },
 "nbformat": 4,
 "nbformat_minor": 4
}
