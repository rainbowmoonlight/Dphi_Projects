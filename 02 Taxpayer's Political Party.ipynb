{
 "cells": [
  {
   "cell_type": "markdown",
   "metadata": {},
   "source": [
    "# Taxpayer's Political Party\n",
    "We are going to build a machine learning model that would predict the political party to which a taxpayer belongs to.\n",
    "\n",
    "\n",
    "## **Data**\n",
    "The dataset contains information about US taxpayers. There are 10 independent columns and 1 dependent column. This dataset includes attributes like household income, household debt level, if the taxpayer is married or not, how many cars their household has, if they filed their taxes in the last three years or not. Some of the attribute informations are given below:\n",
    "- HHI: Household income\n",
    "- HHDL: Household debt level\n",
    "- Married: There are three categories for a taxpayer 0, 1, 2 with regards to marriage.\n",
    "- PoliticalParty: Name of the political party\n",
    "- CollegeGrads: Grade in College out of 5\n",
    "- AHHAge: Average household age\n",
    "- cars: number of cars in house\n",
    "- Filed in YYYY: Tax filed in given year YYYY\n",
    "\n",
    "https://raw.githubusercontent.com/dphi-official/Datasets/master/tax_payers/train_set_label.csv\""
   ]
  },
  {
   "cell_type": "code",
   "execution_count": 3,
   "metadata": {},
   "outputs": [
    {
     "name": "stdout",
     "output_type": "stream",
     "text": [
      "Requirement already satisfied: scikit-learn==0.23.1 in c:\\users\\princess\\anaconda3\\lib\\site-packages (0.23.1)\n",
      "Requirement already satisfied: numpy>=1.13.3 in c:\\users\\princess\\anaconda3\\lib\\site-packages (from scikit-learn==0.23.1) (1.18.5)\n",
      "Requirement already satisfied: threadpoolctl>=2.0.0 in c:\\users\\princess\\anaconda3\\lib\\site-packages (from scikit-learn==0.23.1) (2.1.0)\n",
      "Requirement already satisfied: joblib>=0.11 in c:\\users\\princess\\anaconda3\\lib\\site-packages (from scikit-learn==0.23.1) (0.16.0)\n",
      "Requirement already satisfied: scipy>=0.19.1 in c:\\users\\princess\\anaconda3\\lib\\site-packages (from scikit-learn==0.23.1) (1.5.0)\n",
      "Requirement already satisfied: numpy>=1.13.3 in c:\\users\\princess\\anaconda3\\lib\\site-packages (from scikit-learn==0.23.1) (1.18.5)\n"
     ]
    }
   ],
   "source": [
    "!pip install scikit-learn==0.23.1"
   ]
  },
  {
   "cell_type": "code",
   "execution_count": 208,
   "metadata": {},
   "outputs": [],
   "source": [
    "import pandas as pd\n",
    "import matplotlib.pyplot as plt\n",
    "import seaborn as sns\n",
    "%matplotlib inline"
   ]
  },
  {
   "cell_type": "code",
   "execution_count": 209,
   "metadata": {},
   "outputs": [],
   "source": [
    "data = pd.read_csv(\"https://raw.githubusercontent.com/dphi-official/Datasets/master/tax_payers/train_set_label.csv\")"
   ]
  },
  {
   "cell_type": "code",
   "execution_count": 87,
   "metadata": {},
   "outputs": [
    {
     "data": {
      "text/html": [
       "<div>\n",
       "<style scoped>\n",
       "    .dataframe tbody tr th:only-of-type {\n",
       "        vertical-align: middle;\n",
       "    }\n",
       "\n",
       "    .dataframe tbody tr th {\n",
       "        vertical-align: top;\n",
       "    }\n",
       "\n",
       "    .dataframe thead th {\n",
       "        text-align: right;\n",
       "    }\n",
       "</style>\n",
       "<table border=\"1\" class=\"dataframe\">\n",
       "  <thead>\n",
       "    <tr style=\"text-align: right;\">\n",
       "      <th></th>\n",
       "      <th>Unnamed: 0</th>\n",
       "      <th>HHI</th>\n",
       "      <th>HHDL</th>\n",
       "      <th>Married</th>\n",
       "      <th>CollegGrads</th>\n",
       "      <th>AHHAge</th>\n",
       "      <th>Cars</th>\n",
       "      <th>Filed in 2017</th>\n",
       "      <th>Filed in 2016</th>\n",
       "      <th>Filed in 2015</th>\n",
       "      <th>PoliticalParty</th>\n",
       "    </tr>\n",
       "  </thead>\n",
       "  <tbody>\n",
       "    <tr>\n",
       "      <th>0</th>\n",
       "      <td>61</td>\n",
       "      <td>183414</td>\n",
       "      <td>-12402</td>\n",
       "      <td>1</td>\n",
       "      <td>2</td>\n",
       "      <td>28</td>\n",
       "      <td>1</td>\n",
       "      <td>0</td>\n",
       "      <td>0</td>\n",
       "      <td>1</td>\n",
       "      <td>Democrat</td>\n",
       "    </tr>\n",
       "    <tr>\n",
       "      <th>1</th>\n",
       "      <td>501</td>\n",
       "      <td>129786</td>\n",
       "      <td>700251</td>\n",
       "      <td>2</td>\n",
       "      <td>5</td>\n",
       "      <td>63</td>\n",
       "      <td>3</td>\n",
       "      <td>0</td>\n",
       "      <td>0</td>\n",
       "      <td>0</td>\n",
       "      <td>Republican</td>\n",
       "    </tr>\n",
       "    <tr>\n",
       "      <th>2</th>\n",
       "      <td>658</td>\n",
       "      <td>268343</td>\n",
       "      <td>493411</td>\n",
       "      <td>2</td>\n",
       "      <td>4</td>\n",
       "      <td>44</td>\n",
       "      <td>1</td>\n",
       "      <td>1</td>\n",
       "      <td>0</td>\n",
       "      <td>1</td>\n",
       "      <td>Independent</td>\n",
       "    </tr>\n",
       "    <tr>\n",
       "      <th>3</th>\n",
       "      <td>703</td>\n",
       "      <td>290506</td>\n",
       "      <td>-433408</td>\n",
       "      <td>1</td>\n",
       "      <td>1</td>\n",
       "      <td>28</td>\n",
       "      <td>5</td>\n",
       "      <td>1</td>\n",
       "      <td>0</td>\n",
       "      <td>1</td>\n",
       "      <td>Republican</td>\n",
       "    </tr>\n",
       "    <tr>\n",
       "      <th>4</th>\n",
       "      <td>702</td>\n",
       "      <td>90108</td>\n",
       "      <td>907135</td>\n",
       "      <td>1</td>\n",
       "      <td>3</td>\n",
       "      <td>57</td>\n",
       "      <td>5</td>\n",
       "      <td>1</td>\n",
       "      <td>1</td>\n",
       "      <td>0</td>\n",
       "      <td>Democrat</td>\n",
       "    </tr>\n",
       "  </tbody>\n",
       "</table>\n",
       "</div>"
      ],
      "text/plain": [
       "   Unnamed: 0     HHI    HHDL  Married  CollegGrads  AHHAge  Cars  \\\n",
       "0          61  183414  -12402        1            2      28     1   \n",
       "1         501  129786  700251        2            5      63     3   \n",
       "2         658  268343  493411        2            4      44     1   \n",
       "3         703  290506 -433408        1            1      28     5   \n",
       "4         702   90108  907135        1            3      57     5   \n",
       "\n",
       "   Filed in 2017  Filed in 2016  Filed in 2015 PoliticalParty  \n",
       "0              0              0              1       Democrat  \n",
       "1              0              0              0     Republican  \n",
       "2              1              0              1    Independent  \n",
       "3              1              0              1     Republican  \n",
       "4              1              1              0       Democrat  "
      ]
     },
     "execution_count": 87,
     "metadata": {},
     "output_type": "execute_result"
    }
   ],
   "source": [
    "data.head()"
   ]
  },
  {
   "cell_type": "code",
   "execution_count": 71,
   "metadata": {},
   "outputs": [
    {
     "name": "stdout",
     "output_type": "stream",
     "text": [
      "<class 'pandas.core.frame.DataFrame'>\n",
      "RangeIndex: 803 entries, 0 to 802\n",
      "Data columns (total 11 columns):\n",
      " #   Column          Non-Null Count  Dtype \n",
      "---  ------          --------------  ----- \n",
      " 0   Unnamed: 0      803 non-null    int64 \n",
      " 1   HHI             803 non-null    int64 \n",
      " 2   HHDL            803 non-null    int64 \n",
      " 3   Married         803 non-null    int64 \n",
      " 4   CollegGrads     803 non-null    int64 \n",
      " 5   AHHAge          803 non-null    int64 \n",
      " 6   Cars            803 non-null    int64 \n",
      " 7   Filed in 2017   803 non-null    int64 \n",
      " 8   Filed in 2016   803 non-null    int64 \n",
      " 9   Filed in 2015   803 non-null    int64 \n",
      " 10  PoliticalParty  803 non-null    object\n",
      "dtypes: int64(10), object(1)\n",
      "memory usage: 69.1+ KB\n"
     ]
    }
   ],
   "source": [
    "data.info()"
   ]
  },
  {
   "cell_type": "code",
   "execution_count": 210,
   "metadata": {},
   "outputs": [],
   "source": [
    "data.drop(\"Unnamed: 0\", axis=1, inplace=True)"
   ]
  },
  {
   "cell_type": "code",
   "execution_count": 72,
   "metadata": {},
   "outputs": [
    {
     "data": {
      "text/plain": [
       "Unnamed: 0        0\n",
       "HHI               0\n",
       "HHDL              0\n",
       "Married           0\n",
       "CollegGrads       0\n",
       "AHHAge            0\n",
       "Cars              0\n",
       "Filed in 2017     0\n",
       "Filed in 2016     0\n",
       "Filed in 2015     0\n",
       "PoliticalParty    0\n",
       "dtype: int64"
      ]
     },
     "execution_count": 72,
     "metadata": {},
     "output_type": "execute_result"
    }
   ],
   "source": [
    "data.isnull().sum()"
   ]
  },
  {
   "cell_type": "code",
   "execution_count": 40,
   "metadata": {},
   "outputs": [
    {
     "data": {
      "text/plain": [
       "Independent    269\n",
       "Democrat       269\n",
       "Republican     265\n",
       "Name: PoliticalParty, dtype: int64"
      ]
     },
     "execution_count": 40,
     "metadata": {},
     "output_type": "execute_result"
    }
   ],
   "source": [
    "data.PoliticalParty.value_counts()"
   ]
  },
  {
   "cell_type": "markdown",
   "metadata": {},
   "source": [
    "Republican Party has least count of taxpayers"
   ]
  },
  {
   "cell_type": "code",
   "execution_count": 41,
   "metadata": {},
   "outputs": [
    {
     "data": {
      "text/html": [
       "<div>\n",
       "<style scoped>\n",
       "    .dataframe tbody tr th:only-of-type {\n",
       "        vertical-align: middle;\n",
       "    }\n",
       "\n",
       "    .dataframe tbody tr th {\n",
       "        vertical-align: top;\n",
       "    }\n",
       "\n",
       "    .dataframe thead th {\n",
       "        text-align: right;\n",
       "    }\n",
       "</style>\n",
       "<table border=\"1\" class=\"dataframe\">\n",
       "  <thead>\n",
       "    <tr style=\"text-align: right;\">\n",
       "      <th></th>\n",
       "      <th>HHI</th>\n",
       "      <th>HHDL</th>\n",
       "      <th>Married</th>\n",
       "      <th>CollegGrads</th>\n",
       "      <th>AHHAge</th>\n",
       "      <th>Cars</th>\n",
       "      <th>Filed in 2017</th>\n",
       "      <th>Filed in 2016</th>\n",
       "      <th>Filed in 2015</th>\n",
       "    </tr>\n",
       "    <tr>\n",
       "      <th>PoliticalParty</th>\n",
       "      <th></th>\n",
       "      <th></th>\n",
       "      <th></th>\n",
       "      <th></th>\n",
       "      <th></th>\n",
       "      <th></th>\n",
       "      <th></th>\n",
       "      <th></th>\n",
       "      <th></th>\n",
       "    </tr>\n",
       "  </thead>\n",
       "  <tbody>\n",
       "    <tr>\n",
       "      <th>Democrat</th>\n",
       "      <td>39207768</td>\n",
       "      <td>-3973161</td>\n",
       "      <td>251</td>\n",
       "      <td>714</td>\n",
       "      <td>15937</td>\n",
       "      <td>636</td>\n",
       "      <td>125</td>\n",
       "      <td>138</td>\n",
       "      <td>125</td>\n",
       "    </tr>\n",
       "    <tr>\n",
       "      <th>Independent</th>\n",
       "      <td>42692746</td>\n",
       "      <td>-6328472</td>\n",
       "      <td>262</td>\n",
       "      <td>689</td>\n",
       "      <td>16390</td>\n",
       "      <td>638</td>\n",
       "      <td>135</td>\n",
       "      <td>142</td>\n",
       "      <td>153</td>\n",
       "    </tr>\n",
       "    <tr>\n",
       "      <th>Republican</th>\n",
       "      <td>42887845</td>\n",
       "      <td>-2025423</td>\n",
       "      <td>267</td>\n",
       "      <td>691</td>\n",
       "      <td>16302</td>\n",
       "      <td>682</td>\n",
       "      <td>147</td>\n",
       "      <td>129</td>\n",
       "      <td>137</td>\n",
       "    </tr>\n",
       "  </tbody>\n",
       "</table>\n",
       "</div>"
      ],
      "text/plain": [
       "                     HHI     HHDL  Married  CollegGrads  AHHAge  Cars  \\\n",
       "PoliticalParty                                                          \n",
       "Democrat        39207768 -3973161      251          714   15937   636   \n",
       "Independent     42692746 -6328472      262          689   16390   638   \n",
       "Republican      42887845 -2025423      267          691   16302   682   \n",
       "\n",
       "                Filed in 2017  Filed in 2016  Filed in 2015  \n",
       "PoliticalParty                                               \n",
       "Democrat                  125            138            125  \n",
       "Independent               135            142            153  \n",
       "Republican                147            129            137  "
      ]
     },
     "execution_count": 41,
     "metadata": {},
     "output_type": "execute_result"
    }
   ],
   "source": [
    "data.groupby(\"PoliticalParty\").sum()"
   ]
  },
  {
   "cell_type": "code",
   "execution_count": 42,
   "metadata": {},
   "outputs": [
    {
     "data": {
      "text/plain": [
       "1    415\n",
       "0    388\n",
       "Name: Filed in 2015, dtype: int64"
      ]
     },
     "execution_count": 42,
     "metadata": {},
     "output_type": "execute_result"
    }
   ],
   "source": [
    "data[\"Filed in 2015\"].value_counts()"
   ]
  },
  {
   "cell_type": "code",
   "execution_count": 43,
   "metadata": {},
   "outputs": [
    {
     "data": {
      "text/plain": [
       "1    409\n",
       "0    394\n",
       "Name: Filed in 2016, dtype: int64"
      ]
     },
     "execution_count": 43,
     "metadata": {},
     "output_type": "execute_result"
    }
   ],
   "source": [
    "data[\"Filed in 2016\"].value_counts()"
   ]
  },
  {
   "cell_type": "code",
   "execution_count": 44,
   "metadata": {},
   "outputs": [
    {
     "data": {
      "text/plain": [
       "1    407\n",
       "0    396\n",
       "Name: Filed in 2017, dtype: int64"
      ]
     },
     "execution_count": 44,
     "metadata": {},
     "output_type": "execute_result"
    }
   ],
   "source": [
    "data[\"Filed in 2017\"].value_counts()"
   ]
  },
  {
   "cell_type": "markdown",
   "metadata": {},
   "source": [
    "The count of people who filed tax in 2015 is more than the count of people who filed tax in the other two years individually."
   ]
  },
  {
   "cell_type": "code",
   "execution_count": 19,
   "metadata": {},
   "outputs": [
    {
     "data": {
      "text/plain": [
       "Text(0.5, 1.0, 'Scatterplot between HHI and HHDL')"
      ]
     },
     "execution_count": 19,
     "metadata": {},
     "output_type": "execute_result"
    },
    {
     "data": {
      "image/png": "[encoded data removed]",
      "text/plain": [
       "<Figure size 864x432 with 1 Axes>"
      ]
     },
     "metadata": {
      "needs_background": "light"
     },
     "output_type": "display_data"
    }
   ],
   "source": [
    "plt.figure(figsize=(12,6))\n",
    "sns.scatterplot(data.HHI, data.HHDL)\n",
    "plt.xlabel(\"HHI\")\n",
    "plt.ylabel(\"HHDL\")\n",
    "plt.title(\"Scatterplot between HHI and HHDL\")"
   ]
  },
  {
   "cell_type": "markdown",
   "metadata": {},
   "source": [
    "Separate dependent feature (i.e. PoliticalParty) and independent features"
   ]
  },
  {
   "cell_type": "code",
   "execution_count": 211,
   "metadata": {},
   "outputs": [
    {
     "data": {
      "text/html": [
       "<div>\n",
       "<style scoped>\n",
       "    .dataframe tbody tr th:only-of-type {\n",
       "        vertical-align: middle;\n",
       "    }\n",
       "\n",
       "    .dataframe tbody tr th {\n",
       "        vertical-align: top;\n",
       "    }\n",
       "\n",
       "    .dataframe thead th {\n",
       "        text-align: right;\n",
       "    }\n",
       "</style>\n",
       "<table border=\"1\" class=\"dataframe\">\n",
       "  <thead>\n",
       "    <tr style=\"text-align: right;\">\n",
       "      <th></th>\n",
       "      <th>HHI</th>\n",
       "      <th>HHDL</th>\n",
       "      <th>Married</th>\n",
       "      <th>CollegGrads</th>\n",
       "      <th>AHHAge</th>\n",
       "      <th>Cars</th>\n",
       "      <th>Filed in 2017</th>\n",
       "      <th>Filed in 2016</th>\n",
       "      <th>Filed in 2015</th>\n",
       "    </tr>\n",
       "  </thead>\n",
       "  <tbody>\n",
       "    <tr>\n",
       "      <th>HHI</th>\n",
       "      <td>1.000000</td>\n",
       "      <td>-0.013745</td>\n",
       "      <td>-0.007374</td>\n",
       "      <td>-0.029947</td>\n",
       "      <td>0.029051</td>\n",
       "      <td>0.025449</td>\n",
       "      <td>0.061525</td>\n",
       "      <td>0.040308</td>\n",
       "      <td>0.027026</td>\n",
       "    </tr>\n",
       "    <tr>\n",
       "      <th>HHDL</th>\n",
       "      <td>-0.013745</td>\n",
       "      <td>1.000000</td>\n",
       "      <td>-0.039531</td>\n",
       "      <td>0.015394</td>\n",
       "      <td>0.051930</td>\n",
       "      <td>0.016308</td>\n",
       "      <td>0.035499</td>\n",
       "      <td>0.022683</td>\n",
       "      <td>0.029971</td>\n",
       "    </tr>\n",
       "    <tr>\n",
       "      <th>Married</th>\n",
       "      <td>-0.007374</td>\n",
       "      <td>-0.039531</td>\n",
       "      <td>1.000000</td>\n",
       "      <td>-0.012980</td>\n",
       "      <td>0.029995</td>\n",
       "      <td>-0.020007</td>\n",
       "      <td>-0.056867</td>\n",
       "      <td>0.054926</td>\n",
       "      <td>-0.028267</td>\n",
       "    </tr>\n",
       "    <tr>\n",
       "      <th>CollegGrads</th>\n",
       "      <td>-0.029947</td>\n",
       "      <td>0.015394</td>\n",
       "      <td>-0.012980</td>\n",
       "      <td>1.000000</td>\n",
       "      <td>0.036692</td>\n",
       "      <td>-0.000744</td>\n",
       "      <td>-0.046625</td>\n",
       "      <td>0.034875</td>\n",
       "      <td>0.032438</td>\n",
       "    </tr>\n",
       "    <tr>\n",
       "      <th>AHHAge</th>\n",
       "      <td>0.029051</td>\n",
       "      <td>0.051930</td>\n",
       "      <td>0.029995</td>\n",
       "      <td>0.036692</td>\n",
       "      <td>1.000000</td>\n",
       "      <td>0.069374</td>\n",
       "      <td>0.014954</td>\n",
       "      <td>-0.006631</td>\n",
       "      <td>0.016506</td>\n",
       "    </tr>\n",
       "    <tr>\n",
       "      <th>Cars</th>\n",
       "      <td>0.025449</td>\n",
       "      <td>0.016308</td>\n",
       "      <td>-0.020007</td>\n",
       "      <td>-0.000744</td>\n",
       "      <td>0.069374</td>\n",
       "      <td>1.000000</td>\n",
       "      <td>-0.009360</td>\n",
       "      <td>0.063988</td>\n",
       "      <td>0.036764</td>\n",
       "    </tr>\n",
       "    <tr>\n",
       "      <th>Filed in 2017</th>\n",
       "      <td>0.061525</td>\n",
       "      <td>0.035499</td>\n",
       "      <td>-0.056867</td>\n",
       "      <td>-0.046625</td>\n",
       "      <td>0.014954</td>\n",
       "      <td>-0.009360</td>\n",
       "      <td>1.000000</td>\n",
       "      <td>-0.086207</td>\n",
       "      <td>0.008262</td>\n",
       "    </tr>\n",
       "    <tr>\n",
       "      <th>Filed in 2016</th>\n",
       "      <td>0.040308</td>\n",
       "      <td>0.022683</td>\n",
       "      <td>0.054926</td>\n",
       "      <td>0.034875</td>\n",
       "      <td>-0.006631</td>\n",
       "      <td>0.063988</td>\n",
       "      <td>-0.086207</td>\n",
       "      <td>1.000000</td>\n",
       "      <td>-0.051725</td>\n",
       "    </tr>\n",
       "    <tr>\n",
       "      <th>Filed in 2015</th>\n",
       "      <td>0.027026</td>\n",
       "      <td>0.029971</td>\n",
       "      <td>-0.028267</td>\n",
       "      <td>0.032438</td>\n",
       "      <td>0.016506</td>\n",
       "      <td>0.036764</td>\n",
       "      <td>0.008262</td>\n",
       "      <td>-0.051725</td>\n",
       "      <td>1.000000</td>\n",
       "    </tr>\n",
       "  </tbody>\n",
       "</table>\n",
       "</div>"
      ],
      "text/plain": [
       "                    HHI      HHDL   Married  CollegGrads    AHHAge      Cars  \\\n",
       "HHI            1.000000 -0.013745 -0.007374    -0.029947  0.029051  0.025449   \n",
       "HHDL          -0.013745  1.000000 -0.039531     0.015394  0.051930  0.016308   \n",
       "Married       -0.007374 -0.039531  1.000000    -0.012980  0.029995 -0.020007   \n",
       "CollegGrads   -0.029947  0.015394 -0.012980     1.000000  0.036692 -0.000744   \n",
       "AHHAge         0.029051  0.051930  0.029995     0.036692  1.000000  0.069374   \n",
       "Cars           0.025449  0.016308 -0.020007    -0.000744  0.069374  1.000000   \n",
       "Filed in 2017  0.061525  0.035499 -0.056867    -0.046625  0.014954 -0.009360   \n",
       "Filed in 2016  0.040308  0.022683  0.054926     0.034875 -0.006631  0.063988   \n",
       "Filed in 2015  0.027026  0.029971 -0.028267     0.032438  0.016506  0.036764   \n",
       "\n",
       "               Filed in 2017  Filed in 2016  Filed in 2015  \n",
       "HHI                 0.061525       0.040308       0.027026  \n",
       "HHDL                0.035499       0.022683       0.029971  \n",
       "Married            -0.056867       0.054926      -0.028267  \n",
       "CollegGrads        -0.046625       0.034875       0.032438  \n",
       "AHHAge              0.014954      -0.006631       0.016506  \n",
       "Cars               -0.009360       0.063988       0.036764  \n",
       "Filed in 2017       1.000000      -0.086207       0.008262  \n",
       "Filed in 2016      -0.086207       1.000000      -0.051725  \n",
       "Filed in 2015       0.008262      -0.051725       1.000000  "
      ]
     },
     "execution_count": 211,
     "metadata": {},
     "output_type": "execute_result"
    }
   ],
   "source": [
    "corr_matrix = data.corr()\n",
    "corr_matrix"
   ]
  },
  {
   "cell_type": "code",
   "execution_count": 212,
   "metadata": {},
   "outputs": [
    {
     "data": {
      "text/plain": [
       "<matplotlib.axes._subplots.AxesSubplot at 0x191e17e7d60>"
      ]
     },
     "execution_count": 212,
     "metadata": {},
     "output_type": "execute_result"
    },
    {
     "data": {
      "image/png": "[encoded data removed]",
      "text/plain": [
       "<Figure size 864x432 with 2 Axes>"
      ]
     },
     "metadata": {
      "needs_background": "light"
     },
     "output_type": "display_data"
    }
   ],
   "source": [
    "plt.figure(figsize=(12,6))\n",
    "sns.heatmap(corr_matrix, annot=True)"
   ]
  },
  {
   "cell_type": "code",
   "execution_count": 213,
   "metadata": {},
   "outputs": [],
   "source": [
    "X = data.drop(\"PoliticalParty\", axis=1)\n",
    "y = data[\"PoliticalParty\"]"
   ]
  },
  {
   "cell_type": "markdown",
   "metadata": {},
   "source": [
    "Split the data into train and test set with test_size = 0.2 and random_state = 1"
   ]
  },
  {
   "cell_type": "code",
   "execution_count": 214,
   "metadata": {},
   "outputs": [],
   "source": [
    "from sklearn.model_selection import train_test_split\n",
    "X_train, X_test, y_train, y_test = train_test_split(X,y, test_size=0.2, random_state=1, stratify=y)"
   ]
  },
  {
   "cell_type": "markdown",
   "metadata": {},
   "source": [
    "## Logistic Regression"
   ]
  },
  {
   "cell_type": "code",
   "execution_count": 75,
   "metadata": {},
   "outputs": [
    {
     "data": {
      "text/plain": [
       "LogisticRegression()"
      ]
     },
     "execution_count": 75,
     "metadata": {},
     "output_type": "execute_result"
    }
   ],
   "source": [
    "from sklearn.linear_model import LogisticRegression\n",
    "logreg = LogisticRegression()\n",
    "logreg.fit(X_train, y_train)"
   ]
  },
  {
   "cell_type": "code",
   "execution_count": 50,
   "metadata": {},
   "outputs": [],
   "source": [
    "y_pred=logreg.predict(X_test)"
   ]
  },
  {
   "cell_type": "code",
   "execution_count": 51,
   "metadata": {},
   "outputs": [
    {
     "data": {
      "text/plain": [
       "0.367601246105919"
      ]
     },
     "execution_count": 51,
     "metadata": {},
     "output_type": "execute_result"
    }
   ],
   "source": [
    "logreg.score(X_train, y_train)"
   ]
  },
  {
   "cell_type": "code",
   "execution_count": 52,
   "metadata": {},
   "outputs": [
    {
     "data": {
      "text/plain": [
       "0.2795031055900621"
      ]
     },
     "execution_count": 52,
     "metadata": {},
     "output_type": "execute_result"
    }
   ],
   "source": [
    "logreg.score(X_test, y_test)"
   ]
  },
  {
   "cell_type": "markdown",
   "metadata": {},
   "source": [
    "## Logistic Regression Model Evaluation"
   ]
  },
  {
   "cell_type": "code",
   "execution_count": 215,
   "metadata": {},
   "outputs": [],
   "source": [
    "from sklearn.metrics import accuracy_score, confusion_matrix, classification_report"
   ]
  },
  {
   "cell_type": "code",
   "execution_count": 107,
   "metadata": {},
   "outputs": [
    {
     "data": {
      "text/plain": [
       "0.2795031055900621"
      ]
     },
     "execution_count": 107,
     "metadata": {},
     "output_type": "execute_result"
    }
   ],
   "source": [
    "accuracy_score(y_test,y_pred)"
   ]
  },
  {
   "cell_type": "code",
   "execution_count": 108,
   "metadata": {},
   "outputs": [
    {
     "data": {
      "text/plain": [
       "array([[ 0, 30, 25],\n",
       "       [ 0, 23, 32],\n",
       "       [ 0, 29, 22]], dtype=int64)"
      ]
     },
     "execution_count": 108,
     "metadata": {},
     "output_type": "execute_result"
    }
   ],
   "source": [
    "confusion_matrix(y_test,y_pred)"
   ]
  },
  {
   "cell_type": "code",
   "execution_count": 114,
   "metadata": {},
   "outputs": [
    {
     "name": "stdout",
     "output_type": "stream",
     "text": [
      "              precision    recall  f1-score   support\n",
      "\n",
      "    Democrat       0.00      0.00      0.00        55\n",
      " Independent       0.28      0.42      0.34        55\n",
      "  Republican       0.28      0.43      0.34        51\n",
      "\n",
      "    accuracy                           0.28       161\n",
      "   macro avg       0.19      0.28      0.22       161\n",
      "weighted avg       0.18      0.28      0.22       161\n",
      "\n"
     ]
    }
   ],
   "source": [
    "print(classification_report(y_test,y_pred))"
   ]
  },
  {
   "cell_type": "markdown",
   "metadata": {},
   "source": [
    "## Using Random Forest Classifier"
   ]
  },
  {
   "cell_type": "code",
   "execution_count": 216,
   "metadata": {},
   "outputs": [],
   "source": [
    "from sklearn.ensemble import RandomForestClassifier\n",
    "forest = RandomForestClassifier(n_estimators=10, max_depth = 5, random_state=1, n_jobs=-1)"
   ]
  },
  {
   "cell_type": "code",
   "execution_count": 217,
   "metadata": {},
   "outputs": [
    {
     "data": {
      "text/plain": [
       "RandomForestClassifier(max_depth=5, n_estimators=10, n_jobs=-1, random_state=1)"
      ]
     },
     "execution_count": 217,
     "metadata": {},
     "output_type": "execute_result"
    }
   ],
   "source": [
    "forest.fit(X_train, y_train)"
   ]
  },
  {
   "cell_type": "code",
   "execution_count": 218,
   "metadata": {},
   "outputs": [
    {
     "data": {
      "text/plain": [
       "array(['Republican', 'Republican', 'Independent', 'Republican',\n",
       "       'Republican', 'Democrat', 'Democrat', 'Independent', 'Democrat',\n",
       "       'Republican', 'Democrat', 'Democrat', 'Independent', 'Republican',\n",
       "       'Democrat', 'Republican', 'Republican', 'Independent',\n",
       "       'Independent', 'Democrat', 'Independent', 'Independent',\n",
       "       'Republican', 'Independent', 'Republican', 'Democrat', 'Democrat',\n",
       "       'Democrat', 'Independent', 'Independent', 'Republican', 'Democrat',\n",
       "       'Democrat', 'Democrat', 'Democrat', 'Independent', 'Independent',\n",
       "       'Independent', 'Democrat', 'Independent', 'Independent',\n",
       "       'Independent', 'Independent', 'Republican', 'Republican',\n",
       "       'Republican', 'Democrat', 'Independent', 'Democrat', 'Independent',\n",
       "       'Democrat', 'Independent', 'Independent', 'Democrat', 'Republican',\n",
       "       'Democrat', 'Republican', 'Republican', 'Democrat', 'Republican',\n",
       "       'Independent', 'Democrat', 'Republican', 'Independent', 'Democrat',\n",
       "       'Independent', 'Republican', 'Democrat', 'Democrat', 'Republican',\n",
       "       'Democrat', 'Independent', 'Republican', 'Republican', 'Democrat',\n",
       "       'Independent', 'Republican', 'Independent', 'Democrat',\n",
       "       'Independent', 'Democrat', 'Democrat', 'Democrat', 'Democrat',\n",
       "       'Independent', 'Democrat', 'Republican', 'Independent',\n",
       "       'Independent', 'Independent', 'Republican', 'Independent',\n",
       "       'Democrat', 'Democrat', 'Democrat', 'Independent', 'Democrat',\n",
       "       'Democrat', 'Independent', 'Democrat', 'Independent', 'Republican',\n",
       "       'Democrat', 'Democrat', 'Democrat', 'Independent', 'Democrat',\n",
       "       'Republican', 'Independent', 'Democrat', 'Democrat', 'Democrat',\n",
       "       'Democrat', 'Democrat', 'Independent', 'Democrat', 'Independent',\n",
       "       'Republican', 'Democrat', 'Democrat', 'Democrat', 'Independent',\n",
       "       'Democrat', 'Republican', 'Democrat', 'Independent', 'Independent',\n",
       "       'Independent', 'Democrat', 'Democrat', 'Democrat', 'Republican',\n",
       "       'Republican', 'Independent', 'Republican', 'Republican',\n",
       "       'Independent', 'Democrat', 'Republican', 'Independent',\n",
       "       'Independent', 'Democrat', 'Democrat', 'Democrat', 'Democrat',\n",
       "       'Independent', 'Democrat', 'Independent', 'Democrat', 'Republican',\n",
       "       'Republican', 'Independent', 'Independent', 'Democrat', 'Democrat',\n",
       "       'Republican', 'Republican', 'Democrat', 'Independent', 'Democrat',\n",
       "       'Independent'], dtype=object)"
      ]
     },
     "execution_count": 218,
     "metadata": {},
     "output_type": "execute_result"
    }
   ],
   "source": [
    "forest.predict(X_test)"
   ]
  },
  {
   "cell_type": "code",
   "execution_count": 219,
   "metadata": {},
   "outputs": [
    {
     "data": {
      "text/plain": [
       "0.6214953271028038"
      ]
     },
     "execution_count": 219,
     "metadata": {},
     "output_type": "execute_result"
    }
   ],
   "source": [
    "forest.score(X_train, y_train)"
   ]
  },
  {
   "cell_type": "code",
   "execution_count": 220,
   "metadata": {},
   "outputs": [
    {
     "data": {
      "text/plain": [
       "0.36645962732919257"
      ]
     },
     "execution_count": 220,
     "metadata": {},
     "output_type": "execute_result"
    }
   ],
   "source": [
    "forest.score(X_test, y_test)"
   ]
  },
  {
   "cell_type": "code",
   "execution_count": 221,
   "metadata": {},
   "outputs": [
    {
     "name": "stdout",
     "output_type": "stream",
     "text": [
      "              precision    recall  f1-score   support\n",
      "\n",
      "    Democrat       0.00      0.00      0.00        54\n",
      " Independent       0.37      0.56      0.44        54\n",
      "  Republican       0.37      0.55      0.44        53\n",
      "\n",
      "    accuracy                           0.37       161\n",
      "   macro avg       0.24      0.37      0.29       161\n",
      "weighted avg       0.24      0.37      0.29       161\n",
      "\n"
     ]
    },
    {
     "name": "stderr",
     "output_type": "stream",
     "text": [
      "C:\\Users\\PRINCESS\\anaconda3\\lib\\site-packages\\sklearn\\metrics\\_classification.py:1221: UndefinedMetricWarning: Precision and F-score are ill-defined and being set to 0.0 in labels with no predicted samples. Use `zero_division` parameter to control this behavior.\n",
      "  _warn_prf(average, modifier, msg_start, len(result))\n"
     ]
    }
   ],
   "source": [
    "print(classification_report(y_test,y_pred))"
   ]
  },
  {
   "cell_type": "markdown",
   "metadata": {},
   "source": [
    "## Hyper Parameter Tunning"
   ]
  },
  {
   "cell_type": "code",
   "execution_count": 196,
   "metadata": {},
   "outputs": [
    {
     "data": {
      "text/plain": [
       "GradientBoostingClassifier()"
      ]
     },
     "execution_count": 196,
     "metadata": {},
     "output_type": "execute_result"
    }
   ],
   "source": [
    "from sklearn.ensemble import GradientBoostingClassifier\n",
    "\n",
    "model = GradientBoostingClassifier()\n",
    "model.fit(X_train, y_train)"
   ]
  },
  {
   "cell_type": "code",
   "execution_count": 197,
   "metadata": {},
   "outputs": [],
   "source": [
    "def print_results(results):\n",
    "    print('BEST PARAMS: {}\\n'.format(results.best_params_))\n",
    "\n",
    "    means = results.cv_results_['mean_test_score']\n",
    "    stds = results.cv_results_['std_test_score']\n",
    "    for mean, std, params in zip(means, stds, results.cv_results_['params']):\n",
    "        print('{} (+/-{}) for {}'.format(round(mean, 3), round(std * 2, 3), params))"
   ]
  },
  {
   "cell_type": "code",
   "execution_count": 198,
   "metadata": {},
   "outputs": [
    {
     "name": "stdout",
     "output_type": "stream",
     "text": [
      "BEST PARAMS: {'n_estimators': 9, 'max_depth': 4, 'learning_rate': 3}\n",
      "\n",
      "0.355 (+/-0.107) for {'n_estimators': 8, 'max_depth': 5, 'learning_rate': 3}\n",
      "0.349 (+/-0.044) for {'n_estimators': 10, 'max_depth': 6, 'learning_rate': 2}\n",
      "0.343 (+/-0.098) for {'n_estimators': 11, 'max_depth': 4, 'learning_rate': 1}\n",
      "0.35 (+/-0.079) for {'n_estimators': 5, 'max_depth': 9, 'learning_rate': 1}\n",
      "0.336 (+/-0.053) for {'n_estimators': 5, 'max_depth': 4, 'learning_rate': 2}\n",
      "0.308 (+/-0.094) for {'n_estimators': 8, 'max_depth': 8, 'learning_rate': 1}\n",
      "0.382 (+/-0.068) for {'n_estimators': 9, 'max_depth': 4, 'learning_rate': 3}\n",
      "0.319 (+/-0.045) for {'n_estimators': 10, 'max_depth': 4, 'learning_rate': 2}\n",
      "0.36 (+/-0.059) for {'n_estimators': 11, 'max_depth': 5, 'learning_rate': 2}\n",
      "0.341 (+/-0.065) for {'n_estimators': 6, 'max_depth': 7, 'learning_rate': 2}\n",
      "0.327 (+/-0.094) for {'n_estimators': 10, 'max_depth': 8, 'learning_rate': 2}\n",
      "0.343 (+/-0.062) for {'n_estimators': 9, 'max_depth': 8, 'learning_rate': 2}\n",
      "0.329 (+/-0.059) for {'n_estimators': 10, 'max_depth': 6, 'learning_rate': 1}\n",
      "0.355 (+/-0.039) for {'n_estimators': 8, 'max_depth': 9, 'learning_rate': 1}\n",
      "0.344 (+/-0.042) for {'n_estimators': 11, 'max_depth': 9, 'learning_rate': 3}\n",
      "0.321 (+/-0.076) for {'n_estimators': 7, 'max_depth': 4, 'learning_rate': 1}\n",
      "0.315 (+/-0.053) for {'n_estimators': 8, 'max_depth': 7, 'learning_rate': 3}\n",
      "0.358 (+/-0.044) for {'n_estimators': 9, 'max_depth': 7, 'learning_rate': 2}\n",
      "0.352 (+/-0.073) for {'n_estimators': 6, 'max_depth': 7, 'learning_rate': 1}\n",
      "0.333 (+/-0.045) for {'n_estimators': 11, 'max_depth': 6, 'learning_rate': 3}\n"
     ]
    }
   ],
   "source": [
    "from sklearn.model_selection import GridSearchCV,RandomizedSearchCV\n",
    "gbc = GradientBoostingClassifier()\n",
    "parameters = {\n",
    "    'n_estimators': [5, 6,7,8,9,10,11],\n",
    "    'max_depth': [4,5,6,7,8,9],\n",
    "    'learning_rate': [1,2,3]\n",
    "}\n",
    "rs = RandomizedSearchCV(gbc, parameters, cv=5,n_iter=20)\n",
    "rs.fit(X_train, y_train)\n",
    "\n",
    "print_results(rs)"
   ]
  },
  {
   "cell_type": "code",
   "execution_count": 200,
   "metadata": {},
   "outputs": [
    {
     "name": "stdout",
     "output_type": "stream",
     "text": [
      "BEST PARAMS: {'learning_rate': 0.5, 'max_depth': 8, 'n_estimators': 90}\n",
      "\n",
      "0.341 (+/-0.034) for {'learning_rate': 0.1, 'max_depth': 5, 'n_estimators': 90}\n",
      "0.347 (+/-0.042) for {'learning_rate': 0.1, 'max_depth': 5, 'n_estimators': 100}\n",
      "0.358 (+/-0.034) for {'learning_rate': 0.1, 'max_depth': 5, 'n_estimators': 125}\n",
      "0.35 (+/-0.029) for {'learning_rate': 0.1, 'max_depth': 8, 'n_estimators': 90}\n",
      "0.357 (+/-0.075) for {'learning_rate': 0.1, 'max_depth': 8, 'n_estimators': 100}\n",
      "0.363 (+/-0.069) for {'learning_rate': 0.1, 'max_depth': 8, 'n_estimators': 125}\n",
      "0.329 (+/-0.061) for {'learning_rate': 0.1, 'max_depth': 16, 'n_estimators': 90}\n",
      "0.336 (+/-0.085) for {'learning_rate': 0.1, 'max_depth': 16, 'n_estimators': 100}\n",
      "0.33 (+/-0.068) for {'learning_rate': 0.1, 'max_depth': 16, 'n_estimators': 125}\n",
      "0.369 (+/-0.094) for {'learning_rate': 0.3, 'max_depth': 5, 'n_estimators': 90}\n",
      "0.355 (+/-0.062) for {'learning_rate': 0.3, 'max_depth': 5, 'n_estimators': 100}\n",
      "0.341 (+/-0.064) for {'learning_rate': 0.3, 'max_depth': 5, 'n_estimators': 125}\n",
      "0.366 (+/-0.031) for {'learning_rate': 0.3, 'max_depth': 8, 'n_estimators': 90}\n",
      "0.363 (+/-0.05) for {'learning_rate': 0.3, 'max_depth': 8, 'n_estimators': 100}\n",
      "0.361 (+/-0.074) for {'learning_rate': 0.3, 'max_depth': 8, 'n_estimators': 125}\n",
      "0.332 (+/-0.091) for {'learning_rate': 0.3, 'max_depth': 16, 'n_estimators': 90}\n",
      "0.351 (+/-0.049) for {'learning_rate': 0.3, 'max_depth': 16, 'n_estimators': 100}\n",
      "0.352 (+/-0.043) for {'learning_rate': 0.3, 'max_depth': 16, 'n_estimators': 125}\n",
      "0.335 (+/-0.026) for {'learning_rate': 0.5, 'max_depth': 5, 'n_estimators': 90}\n",
      "0.358 (+/-0.076) for {'learning_rate': 0.5, 'max_depth': 5, 'n_estimators': 100}\n",
      "0.366 (+/-0.063) for {'learning_rate': 0.5, 'max_depth': 5, 'n_estimators': 125}\n",
      "0.393 (+/-0.059) for {'learning_rate': 0.5, 'max_depth': 8, 'n_estimators': 90}\n",
      "0.372 (+/-0.04) for {'learning_rate': 0.5, 'max_depth': 8, 'n_estimators': 100}\n",
      "0.364 (+/-0.069) for {'learning_rate': 0.5, 'max_depth': 8, 'n_estimators': 125}\n",
      "0.361 (+/-0.077) for {'learning_rate': 0.5, 'max_depth': 16, 'n_estimators': 90}\n",
      "0.344 (+/-0.134) for {'learning_rate': 0.5, 'max_depth': 16, 'n_estimators': 100}\n",
      "0.338 (+/-0.042) for {'learning_rate': 0.5, 'max_depth': 16, 'n_estimators': 125}\n"
     ]
    }
   ],
   "source": [
    "from sklearn.model_selection import GridSearchCV,RandomizedSearchCV\n",
    "gbc = GradientBoostingClassifier()\n",
    "parameters = {\n",
    "    'n_estimators': [90, 100, 125],\n",
    "    'max_depth': [5,8,16],\n",
    "    'learning_rate': [ 0.1, 0.3, 0.5]\n",
    "}\n",
    "cv = GridSearchCV(gbc, parameters, cv=5)\n",
    "cv.fit(X_train, y_train)\n",
    "\n",
    "print_results(cv)"
   ]
  },
  {
   "cell_type": "code",
   "execution_count": 202,
   "metadata": {},
   "outputs": [
    {
     "data": {
      "text/plain": [
       "0.39252664728682174"
      ]
     },
     "execution_count": 202,
     "metadata": {},
     "output_type": "execute_result"
    }
   ],
   "source": [
    "cv.best_score_"
   ]
  },
  {
   "cell_type": "code",
   "execution_count": 203,
   "metadata": {},
   "outputs": [
    {
     "name": "stdout",
     "output_type": "stream",
     "text": [
      "GradientBoostingClassifier(learning_rate=0.5, max_depth=8, n_estimators=90)\n"
     ]
    }
   ],
   "source": [
    "print(cv.best_estimator_)"
   ]
  },
  {
   "cell_type": "code",
   "execution_count": 204,
   "metadata": {},
   "outputs": [
    {
     "data": {
      "text/plain": [
       "array(['Republican', 'Democrat', 'Democrat', 'Republican', 'Republican',\n",
       "       'Republican', 'Democrat', 'Republican', 'Democrat', 'Republican',\n",
       "       'Democrat', 'Republican', 'Republican', 'Democrat', 'Republican',\n",
       "       'Democrat', 'Democrat', 'Democrat', 'Independent', 'Republican',\n",
       "       'Republican', 'Democrat', 'Republican', 'Democrat', 'Democrat',\n",
       "       'Republican', 'Independent', 'Republican', 'Democrat',\n",
       "       'Republican', 'Democrat', 'Democrat', 'Republican', 'Democrat',\n",
       "       'Democrat', 'Republican', 'Democrat', 'Democrat', 'Democrat',\n",
       "       'Republican', 'Republican', 'Republican', 'Republican', 'Democrat',\n",
       "       'Republican', 'Democrat', 'Republican', 'Republican', 'Democrat',\n",
       "       'Republican', 'Democrat', 'Republican', 'Democrat', 'Democrat',\n",
       "       'Democrat', 'Democrat', 'Democrat', 'Republican', 'Democrat',\n",
       "       'Democrat', 'Republican', 'Republican', 'Democrat', 'Democrat',\n",
       "       'Democrat', 'Independent', 'Republican', 'Republican', 'Democrat',\n",
       "       'Democrat', 'Republican', 'Republican', 'Republican',\n",
       "       'Independent', 'Democrat', 'Republican', 'Republican',\n",
       "       'Republican', 'Democrat', 'Independent', 'Democrat', 'Democrat',\n",
       "       'Democrat', 'Democrat', 'Republican', 'Democrat', 'Democrat',\n",
       "       'Democrat', 'Democrat', 'Democrat', 'Republican', 'Republican',\n",
       "       'Democrat', 'Republican', 'Democrat', 'Republican', 'Republican',\n",
       "       'Republican', 'Democrat', 'Democrat', 'Democrat', 'Democrat',\n",
       "       'Democrat', 'Republican', 'Republican', 'Democrat', 'Democrat',\n",
       "       'Democrat', 'Republican', 'Republican', 'Democrat', 'Democrat',\n",
       "       'Independent', 'Republican', 'Democrat', 'Independent',\n",
       "       'Republican', 'Democrat', 'Democrat', 'Democrat', 'Democrat',\n",
       "       'Democrat', 'Republican', 'Democrat', 'Democrat', 'Republican',\n",
       "       'Democrat', 'Democrat', 'Democrat', 'Democrat', 'Democrat',\n",
       "       'Democrat', 'Democrat', 'Independent', 'Democrat', 'Democrat',\n",
       "       'Democrat', 'Democrat', 'Democrat', 'Republican', 'Democrat',\n",
       "       'Republican', 'Democrat', 'Republican', 'Democrat', 'Republican',\n",
       "       'Independent', 'Democrat', 'Democrat', 'Democrat', 'Democrat',\n",
       "       'Democrat', 'Republican', 'Republican', 'Republican', 'Democrat',\n",
       "       'Republican', 'Democrat', 'Republican', 'Democrat', 'Democrat'],\n",
       "      dtype=object)"
      ]
     },
     "execution_count": 204,
     "metadata": {},
     "output_type": "execute_result"
    }
   ],
   "source": [
    "rs.predict(X_test)"
   ]
  },
  {
   "cell_type": "code",
   "execution_count": 206,
   "metadata": {},
   "outputs": [
    {
     "data": {
      "text/plain": [
       "1.0"
      ]
     },
     "execution_count": 206,
     "metadata": {},
     "output_type": "execute_result"
    }
   ],
   "source": [
    "rs.score(X_test,rs.predict(X_test))"
   ]
  },
  {
   "cell_type": "code",
   "execution_count": 207,
   "metadata": {},
   "outputs": [
    {
     "data": {
      "text/plain": [
       "array(['Independent', 'Republican', 'Independent', 'Independent',\n",
       "       'Democrat', 'Independent', 'Independent', 'Republican',\n",
       "       'Republican', 'Independent', 'Republican', 'Republican',\n",
       "       'Independent', 'Democrat', 'Democrat', 'Republican', 'Independent',\n",
       "       'Republican', 'Independent', 'Independent', 'Independent',\n",
       "       'Democrat', 'Republican', 'Independent', 'Democrat', 'Republican',\n",
       "       'Democrat', 'Democrat', 'Republican', 'Democrat', 'Independent',\n",
       "       'Republican', 'Independent', 'Democrat', 'Independent',\n",
       "       'Independent', 'Democrat', 'Independent', 'Independent',\n",
       "       'Independent', 'Independent', 'Democrat', 'Republican',\n",
       "       'Independent', 'Democrat', 'Republican', 'Democrat', 'Independent',\n",
       "       'Republican', 'Independent', 'Independent', 'Republican',\n",
       "       'Independent', 'Democrat', 'Republican', 'Democrat', 'Republican',\n",
       "       'Democrat', 'Democrat', 'Republican', 'Democrat', 'Republican',\n",
       "       'Republican', 'Independent', 'Republican', 'Democrat', 'Democrat',\n",
       "       'Independent', 'Democrat', 'Democrat', 'Republican', 'Independent',\n",
       "       'Independent', 'Republican', 'Democrat', 'Independent', 'Democrat',\n",
       "       'Independent', 'Independent', 'Republican', 'Democrat',\n",
       "       'Independent', 'Republican', 'Democrat', 'Independent', 'Democrat',\n",
       "       'Republican', 'Republican', 'Independent', 'Independent',\n",
       "       'Independent', 'Republican', 'Democrat', 'Independent',\n",
       "       'Independent', 'Independent', 'Independent', 'Democrat',\n",
       "       'Republican', 'Democrat', 'Democrat', 'Democrat', 'Democrat',\n",
       "       'Republican', 'Independent', 'Democrat', 'Independent',\n",
       "       'Independent', 'Independent', 'Democrat', 'Democrat',\n",
       "       'Independent', 'Democrat', 'Democrat', 'Republican', 'Democrat',\n",
       "       'Democrat', 'Republican', 'Republican', 'Independent', 'Democrat',\n",
       "       'Democrat', 'Democrat', 'Republican', 'Republican', 'Independent',\n",
       "       'Democrat', 'Democrat', 'Republican', 'Democrat', 'Democrat',\n",
       "       'Republican', 'Republican', 'Democrat', 'Independent',\n",
       "       'Independent', 'Independent', 'Democrat', 'Republican',\n",
       "       'Republican', 'Democrat', 'Independent', 'Democrat', 'Democrat',\n",
       "       'Independent', 'Democrat', 'Independent', 'Independent',\n",
       "       'Democrat', 'Republican', 'Republican', 'Independent',\n",
       "       'Independent', 'Republican', 'Independent', 'Republican',\n",
       "       'Republican', 'Republican', 'Republican', 'Democrat', 'Democrat'],\n",
       "      dtype=object)"
      ]
     },
     "execution_count": 207,
     "metadata": {},
     "output_type": "execute_result"
    }
   ],
   "source": [
    "cv.predict(X_test)"
   ]
  },
  {
   "cell_type": "code",
   "execution_count": 161,
   "metadata": {},
   "outputs": [
    {
     "data": {
      "text/plain": [
       "0.36645962732919257"
      ]
     },
     "execution_count": 161,
     "metadata": {},
     "output_type": "execute_result"
    }
   ],
   "source": [
    "cv.score(X_test, y_test)"
   ]
  },
  {
   "cell_type": "markdown",
   "metadata": {},
   "source": [
    "## Load Test Dataset"
   ]
  },
  {
   "cell_type": "code",
   "execution_count": 240,
   "metadata": {},
   "outputs": [],
   "source": [
    "test_data = pd.read_csv('https://raw.githubusercontent.com/dphi-official/Datasets/master/tax_payers/test_set_label.csv')"
   ]
  },
  {
   "cell_type": "code",
   "execution_count": 101,
   "metadata": {},
   "outputs": [
    {
     "data": {
      "text/plain": [
       "Unnamed: 0       0\n",
       "HHI              0\n",
       "HHDL             0\n",
       "Married          0\n",
       "CollegGrads      0\n",
       "AHHAge           0\n",
       "Cars             0\n",
       "Filed in 2017    0\n",
       "Filed in 2016    0\n",
       "Filed in 2015    0\n",
       "dtype: int64"
      ]
     },
     "execution_count": 101,
     "metadata": {},
     "output_type": "execute_result"
    }
   ],
   "source": [
    "test_data.isnull().sum()"
   ]
  },
  {
   "cell_type": "code",
   "execution_count": 242,
   "metadata": {},
   "outputs": [],
   "source": [
    "test_data.drop(\"Unnamed: 0\", axis=1, inplace=True)"
   ]
  },
  {
   "cell_type": "code",
   "execution_count": 55,
   "metadata": {},
   "outputs": [],
   "source": [
    "target = logreg.predict(test_data)\n",
    "res = pd.DataFrame(target)\n",
    "res.index = test_data.index\n",
    "res.columns = [\"prediction\"]\n",
    "res.to_csv(\"prediction_results.csv\", index=False)"
   ]
  },
  {
   "cell_type": "code",
   "execution_count": 104,
   "metadata": {},
   "outputs": [],
   "source": [
    "target = forest.predict(test_data)\n",
    "res = pd.DataFrame(target)\n",
    "res.index = test_data.index\n",
    "res.columns = [\"prediction\"]\n",
    "res.to_csv(\"forest_results.csv\", index=False)"
   ]
  },
  {
   "cell_type": "code",
   "execution_count": 172,
   "metadata": {},
   "outputs": [],
   "source": [
    "target = rs.predict(test_data)\n",
    "res = pd.DataFrame(target)\n",
    "res.index = test_data.index\n",
    "res.columns = [\"prediction\"]\n",
    "res.to_csv(\"randomizedsearchcv_tuning.csv\", index=False)"
   ]
  },
  {
   "cell_type": "code",
   "execution_count": 170,
   "metadata": {},
   "outputs": [],
   "source": [
    "target = cv.predict(test_data)\n",
    "res = pd.DataFrame(target)\n",
    "res.index = test_data.index\n",
    "res.columns = [\"prediction\"]\n",
    "res.to_csv(\"gridsearchtuning.csv\", index=False)"
   ]
  },
  {
   "cell_type": "code",
   "execution_count": null,
   "metadata": {},
   "outputs": [],
   "source": []
  }
 ],
 "metadata": {
  "kernelspec": {
   "display_name": "Python 3",
   "language": "python",
   "name": "python3"
  },
  "language_info": {
   "codemirror_mode": {
    "name": "ipython",
    "version": 3
   },
   "file_extension": ".py",
   "mimetype": "text/x-python",
   "name": "python",
   "nbconvert_exporter": "python",
   "pygments_lexer": "ipython3",
   "version": "3.8.3"
  }
 },
 "nbformat": 4,
 "nbformat_minor": 4
}
